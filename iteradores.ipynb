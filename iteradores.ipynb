{
 "cells": [
  {
   "cell_type": "code",
   "execution_count": 8,
   "metadata": {},
   "outputs": [],
   "source": [
    "from typing import Any, Generator, Literal\n",
    "from sklearn.preprocessing import OneHotEncoder, StandardScaler\n",
    "from sklearn.model_selection import train_test_split\n",
    "import pandas as pd"
   ]
  },
  {
   "cell_type": "code",
   "execution_count": null,
   "metadata": {},
   "outputs": [],
   "source": [
    "\"\"\"\n",
    "iteravel -> Detem os valores\n",
    "iterator - > itera nos valores > ele sabe apenas entregar o proximo valor\n",
    "\n",
    "iteravel armazena tudo na memoria ex listcomp\n",
    "e o generator nao, ele entrega apenas 1 valor por vez, conforme itera ou pede next ele entrega o proximo , 'é uma especie de funcao que sabe pausar'\n",
    "\"\"\""
   ]
  },
  {
   "cell_type": "code",
   "execution_count": 50,
   "metadata": {},
   "outputs": [],
   "source": [
    "dados = pd.read_csv(\"D:\\deltalakeapps\\excelfiles\\super_loja.csv\",sep=\";\",encoding=\"latin-1\")"
   ]
  },
  {
   "cell_type": "code",
   "execution_count": 9,
   "metadata": {},
   "outputs": [
    {
     "name": "stderr",
     "output_type": "stream",
     "text": [
      "d:\\deltalakeapps\\venv\\Lib\\site-packages\\sklearn\\preprocessing\\_encoders.py:975: FutureWarning: `sparse` was renamed to `sparse_output` in version 1.2 and will be removed in 1.4. `sparse_output` is ignored unless you leave `sparse` to its default value.\n",
      "  warnings.warn(\n"
     ]
    },
    {
     "name": "stdout",
     "output_type": "stream",
     "text": [
      "       ID da fila    ID do pedido Data do pedido Data de envio  \\\n",
      "0               1  MX-2021-143658     02/10/2021    06/10/2021   \n",
      "1               2  MX-2019-155047     16/10/2019    21/10/2019   \n",
      "2               3  MX-2019-155047     16/10/2019    21/10/2019   \n",
      "3               4  MX-2019-155047     16/10/2019    21/10/2019   \n",
      "4               5  MX-2019-155047     16/10/2019    21/10/2019   \n",
      "...           ...             ...            ...           ...   \n",
      "10257       10283  US-2019-145282     05/04/2019    08/04/2019   \n",
      "10258       10284  US-2019-145282     05/04/2019    08/04/2019   \n",
      "10259       10285  US-2019-106523     11/02/2019    15/02/2019   \n",
      "10260       10286  US-2020-168032     05/11/2020    09/11/2020   \n",
      "10261       10287  US-2020-159870     11/12/2020    11/12/2020   \n",
      "\n",
      "         Modo de envio ID do cliente  Nome do cliente  \\\n",
      "0        Classe padrão      SR-20575      Sofia Rocha   \n",
      "1        Classe padrão      LC-16570  Larissa Cardoso   \n",
      "2        Classe padrão      LC-16570  Larissa Cardoso   \n",
      "3        Classe padrão      LC-16570  Larissa Cardoso   \n",
      "4        Classe padrão      LC-16570  Larissa Cardoso   \n",
      "...                ...           ...              ...   \n",
      "10257  Primeira classe      LM-17230  Letícia Martins   \n",
      "10258  Primeira classe      LM-17230  Letícia Martins   \n",
      "10259    Classe padrão      RA-19795   Raissa Azevedo   \n",
      "10260    Classe padrão      BC-11380   Brenda Cardoso   \n",
      "10261     No mesmo dia      JL-15700       Júlia Lima   \n",
      "\n",
      "                         Segmento                 Cidade            Estado  \\\n",
      "0                          Varejo       Cidade do México  Distrito Federal   \n",
      "1                          Varejo          Dos Quebradas         Risaralda   \n",
      "2                          Varejo          Dos Quebradas         Risaralda   \n",
      "3                          Varejo          Dos Quebradas         Risaralda   \n",
      "4                          Varejo          Dos Quebradas         Risaralda   \n",
      "...                           ...                    ...               ...   \n",
      "10257                      Varejo             Ponte Nova      Minas Gerais   \n",
      "10258                      Varejo             Ponte Nova      Minas Gerais   \n",
      "10259  Pequenas e Medias Empresas  São Miguel dos Campos           Alagoas   \n",
      "10260              Grande Empresa              Vassouras    Rio de Janeiro   \n",
      "10261                      Varejo      Limoeiro do Norte             Ceará   \n",
      "\n",
      "       ... Lucro_9921,6 Lucro_993,36 Lucro_993,5916 Lucro_994 Lucro_994,4  \\\n",
      "0      ...          0.0          0.0            0.0       0.0         0.0   \n",
      "1      ...          0.0          0.0            0.0       0.0         0.0   \n",
      "2      ...          0.0          0.0            0.0       0.0         0.0   \n",
      "3      ...          0.0          0.0            0.0       0.0         0.0   \n",
      "4      ...          0.0          0.0            0.0       0.0         0.0   \n",
      "...    ...          ...          ...            ...       ...         ...   \n",
      "10257  ...          0.0          0.0            0.0       0.0         0.0   \n",
      "10258  ...          0.0          0.0            0.0       0.0         0.0   \n",
      "10259  ...          0.0          0.0            0.0       0.0         0.0   \n",
      "10260  ...          0.0          0.0            0.0       0.0         0.0   \n",
      "10261  ...          0.0          0.0            0.0       0.0         0.0   \n",
      "\n",
      "      Lucro_994,8 Lucro_995  Lucro_996,8 Lucro_9966 Lucro_9993,6  \n",
      "0             0.0       0.0          0.0        0.0          0.0  \n",
      "1             0.0       0.0          0.0        0.0          0.0  \n",
      "2             0.0       0.0          0.0        0.0          0.0  \n",
      "3             0.0       0.0          0.0        0.0          0.0  \n",
      "4             0.0       0.0          0.0        0.0          0.0  \n",
      "...           ...       ...          ...        ...          ...  \n",
      "10257         0.0       0.0          0.0        0.0          0.0  \n",
      "10258         0.0       0.0          0.0        0.0          0.0  \n",
      "10259         0.0       0.0          0.0        0.0          0.0  \n",
      "10260         0.0       0.0          0.0        0.0          0.0  \n",
      "10261         0.0       0.0          0.0        0.0          0.0  \n",
      "\n",
      "[10262 rows x 26159 columns]\n"
     ]
    }
   ],
   "source": [
    "\n",
    "def read_csv_files() -> Generator[pd.DataFrame, Any, None]:\n",
    "    dados = pd.read_csv(\n",
    "        r\"D:\\deltalakeapps\\excelfiles\\super_loja.csv\", sep=\";\", encoding=\"latin-1\")\n",
    "\n",
    "    categorical_columns = dados.select_dtypes(\n",
    "        include=['object']).columns\n",
    "\n",
    "    encoder = OneHotEncoder(sparse=False) \n",
    "\n",
    "    encoded_data = encoder.fit_transform(\n",
    "        dados[categorical_columns])\n",
    "\n",
    "    dados[\n",
    "        categorical_columns] = dados[\n",
    "            categorical_columns].astype('object')\n",
    "\n",
    "    encoded_columns = encoder.get_feature_names_out(\n",
    "        input_features=categorical_columns)\n",
    "    encoded_df = pd.DataFrame(\n",
    "        encoded_data, columns=encoded_columns)\n",
    "    dados = pd.concat([dados, encoded_df], axis=1)\n",
    "\n",
    "    yield dados\n",
    "\n",
    "def get_encoded_dataframe() -> Generator[pd.DataFrame, Any, None]:\n",
    "    yield from read_csv_files()\n",
    "\n",
    "\n",
    "val = get_encoded_dataframe()\n",
    "print(next(val))\n"
   ]
  },
  {
   "cell_type": "code",
   "execution_count": null,
   "metadata": {},
   "outputs": [],
   "source": [
    "def csv_reader(file_name: Any) -> Generator[str, Any, None]:\n",
    "    for row in open(file_name, \"r\"):\n",
    "        yield row"
   ]
  },
  {
   "cell_type": "code",
   "execution_count": null,
   "metadata": {},
   "outputs": [
    {
     "name": "stdout",
     "output_type": "stream",
     "text": [
      "1\n"
     ]
    }
   ],
   "source": [
    "def generator(n: int = 0) -> Generator[Literal[1], Any, None]:\n",
    "    yield 1\n",
    "    \n",
    "gen = generator(n=2)\n",
    "print(next(gen))"
   ]
  },
  {
   "cell_type": "code",
   "execution_count": null,
   "metadata": {},
   "outputs": [],
   "source": [
    "\"\"\"\n",
    "Perceba, o yield nesse código funciona mais ou menos como um return, entretanto\n",
    ", mantém salvo o contexto da função, e quando o for() de dentro do main itera novamente\n",
    ", a função gen_squares_in_interval() volta a ser chamada\n",
    ", continuando sua execução de onde parou, mantendo o contexto da sua iteração\n",
    "\"\"\""
   ]
  },
  {
   "cell_type": "code",
   "execution_count": null,
   "metadata": {},
   "outputs": [
    {
     "name": "stdout",
     "output_type": "stream",
     "text": [
      "0\n",
      "1\n",
      "2\n",
      "3\n",
      "4\n",
      "5\n",
      "6\n",
      "7\n",
      "8\n",
      "9\n",
      "10\n",
      "11\n",
      "12\n"
     ]
    }
   ],
   "source": [
    "def generator(n: int = 0, maximo: int = 10) -> Generator[int, Any, None]:\n",
    "    while True:\n",
    "        yield n\n",
    "        n += 1\n",
    "        if n > maximo:\n",
    "            return\n",
    "        \n",
    "gen  = generator(maximo=12)\n",
    "for n in gen:\n",
    "    print(n)\n",
    "        "
   ]
  },
  {
   "cell_type": "code",
   "execution_count": null,
   "metadata": {},
   "outputs": [
    {
     "name": "stdout",
     "output_type": "stream",
     "text": [
      "4\n",
      "5\n",
      "6\n",
      "7\n",
      "8\n",
      "9\n",
      "10\n",
      "11\n",
      "12\n"
     ]
    }
   ],
   "source": [
    "gen  = generator(n=4,maximo=12)\n",
    "for n in gen:\n",
    "    print(n)\n",
    "        "
   ]
  },
  {
   "cell_type": "code",
   "execution_count": null,
   "metadata": {},
   "outputs": [],
   "source": [
    "\"\"\"\n",
    "sempre que chamado oo yield não destruirá os estados das variáveis ​​locais. Sempre que uma\n",
    "função é chamada, a execução começará a partir da última expressão \n",
    "de rendimento. Observe que uma função que contém uma palavra-chave \n",
    "yield é conhecida como função geradora. \n",
    "\"\"\""
   ]
  },
  {
   "cell_type": "code",
   "execution_count": null,
   "metadata": {},
   "outputs": [],
   "source": [
    "\"\"\"yield from \"\"\""
   ]
  },
  {
   "cell_type": "code",
   "execution_count": null,
   "metadata": {},
   "outputs": [],
   "source": [
    "\"\"\"Pode usar para criar fluxos com funções etc\"\"\""
   ]
  },
  {
   "cell_type": "code",
   "execution_count": 59,
   "metadata": {},
   "outputs": [
    {
     "name": "stdout",
     "output_type": "stream",
     "text": [
      "1\n",
      "2\n",
      "3\n",
      "4\n",
      "5\n",
      "6\n",
      "7\n"
     ]
    }
   ],
   "source": [
    "def gen1():\n",
    "    yield 1\n",
    "    yield 2\n",
    "    yield 3\n",
    "    yield 4\n",
    "    \n",
    "def gen2():\n",
    "    yield from gen1()\n",
    "    yield 5\n",
    "    yield 6\n",
    "    yield 7\n",
    "    \n",
    "    \n",
    "g = gen2()\n",
    "for num in g:\n",
    "    print(num)"
   ]
  },
  {
   "cell_type": "code",
   "execution_count": 60,
   "metadata": {},
   "outputs": [
    {
     "data": {
      "text/plain": [
       "<list_iterator at 0x1bbc7887670>"
      ]
     },
     "execution_count": 60,
     "metadata": {},
     "output_type": "execute_result"
    }
   ],
   "source": [
    "iteravel = ['Ola', 'Teste','iteravel','e','iterator']\n",
    "iterator = iter(iteravel)\n",
    "iterator"
   ]
  },
  {
   "cell_type": "code",
   "execution_count": 61,
   "metadata": {},
   "outputs": [
    {
     "data": {
      "text/plain": [
       "['Ola', 'Teste', 'iteravel', 'e', 'iterator']"
      ]
     },
     "execution_count": 61,
     "metadata": {},
     "output_type": "execute_result"
    }
   ],
   "source": [
    "iteravel = ['Ola', 'Teste','iteravel','e','iterator']\n",
    "iterador = iteravel.__iter__()\n",
    "iteravel"
   ]
  },
  {
   "cell_type": "code",
   "execution_count": 62,
   "metadata": {},
   "outputs": [
    {
     "data": {
      "text/plain": [
       "<list_iterator at 0x1bbc7886ef0>"
      ]
     },
     "execution_count": 62,
     "metadata": {},
     "output_type": "execute_result"
    }
   ],
   "source": [
    "iterador"
   ]
  },
  {
   "cell_type": "code",
   "execution_count": 63,
   "metadata": {},
   "outputs": [
    {
     "name": "stdout",
     "output_type": "stream",
     "text": [
      "Ola\n"
     ]
    }
   ],
   "source": [
    "print(next(iterador))"
   ]
  },
  {
   "cell_type": "code",
   "execution_count": 64,
   "metadata": {},
   "outputs": [
    {
     "name": "stdout",
     "output_type": "stream",
     "text": [
      "Teste\n",
      "iteravel\n",
      "e\n"
     ]
    }
   ],
   "source": [
    "print(next(iterador))\n",
    "print(next(iterador))\n",
    "print(next(iterador))"
   ]
  },
  {
   "cell_type": "code",
   "execution_count": 65,
   "metadata": {},
   "outputs": [
    {
     "data": {
      "text/plain": [
       "<generator object <genexpr> at 0x000001BBCB0BB850>"
      ]
     },
     "execution_count": 65,
     "metadata": {},
     "output_type": "execute_result"
    }
   ],
   "source": [
    "csv_gen = (row for row in open(r\"D:\\deltalakeapps\\excelfiles\\super_loja.csv\"))\n",
    "csv_gen"
   ]
  },
  {
   "cell_type": "code",
   "execution_count": null,
   "metadata": {},
   "outputs": [],
   "source": [
    "def csv_reader(file_name: Any) -> Generator[list[str], Any, None]:\n",
    "    for row in open(file_name, \"r\"):\n",
    "        yield row.split(\";\")\n",
    "        \n",
    "        \n",
    "nexteds = csv_reader(r\"D:\\deltalakeapps\\excelfiles\\super_loja.csv\")\n",
    "\n",
    "for nexted in nexteds:\n",
    "    print(nexted)"
   ]
  },
  {
   "cell_type": "code",
   "execution_count": null,
   "metadata": {},
   "outputs": [],
   "source": [
    "next(csv_gen)"
   ]
  },
  {
   "cell_type": "code",
   "execution_count": null,
   "metadata": {},
   "outputs": [
    {
     "data": {
      "text/plain": [
       "'\\nO uso yieldresultará em um objeto gerador.\\nUsar returnresultará apenas na primeira linha do arquivo\\n'"
      ]
     },
     "execution_count": 97,
     "metadata": {},
     "output_type": "execute_result"
    }
   ],
   "source": [
    "\"\"\"\n",
    "O uso yieldresultará em um objeto gerador.\n",
    "Usar returnresultará apenas na primeira linha do arquivo\n",
    "\"\"\""
   ]
  },
  {
   "cell_type": "code",
   "execution_count": null,
   "metadata": {},
   "outputs": [
    {
     "data": {
      "text/plain": [
       "'\\nO primeiro objeto usou colchetes para construir uma lista, enquanto o segundo criou uma expressão geradora usando parênteses.\\nA saída confirma que você criou um objeto gerador e que ele é distinto de uma lista\\n'"
      ]
     },
     "execution_count": 98,
     "metadata": {},
     "output_type": "execute_result"
    }
   ],
   "source": [
    "\"\"\"\n",
    "O primeiro objeto usou colchetes para construir uma lista, enquanto o segundo criou uma expressão geradora usando parênteses.\n",
    "A saída confirma que você criou um objeto gerador e que ele é distinto de uma lista\n",
    "\"\"\""
   ]
  },
  {
   "cell_type": "code",
   "execution_count": null,
   "metadata": {},
   "outputs": [],
   "source": [
    "nums_squared_lc = [num**2 for num in range(5)]\n",
    "nums_squared_gc = (num**2 for num in range(5))"
   ]
  },
  {
   "cell_type": "code",
   "execution_count": null,
   "metadata": {},
   "outputs": [
    {
     "data": {
      "text/plain": [
       "[0, 1, 4, 9, 16]"
      ]
     },
     "execution_count": 100,
     "metadata": {},
     "output_type": "execute_result"
    }
   ],
   "source": [
    "nums_squared_lc\n"
   ]
  },
  {
   "cell_type": "code",
   "execution_count": null,
   "metadata": {},
   "outputs": [
    {
     "data": {
      "text/plain": [
       "<generator object <genexpr> at 0x0000026D07E84EE0>"
      ]
     },
     "execution_count": 101,
     "metadata": {},
     "output_type": "execute_result"
    }
   ],
   "source": [
    "nums_squared_gc"
   ]
  },
  {
   "cell_type": "code",
   "execution_count": null,
   "metadata": {},
   "outputs": [
    {
     "data": {
      "text/plain": [
       "'\\n compreensão da lista tem 87.624 bytes, enquanto o objeto gerador tem apenas 120.\\n Isso significa que a lista é 700 vezes maior que o objeto gerado\\n'"
      ]
     },
     "execution_count": 102,
     "metadata": {},
     "output_type": "execute_result"
    }
   ],
   "source": [
    "\"\"\"\n",
    " compreensão da lista tem 87.624 bytes, enquanto o objeto gerador tem apenas 120.\n",
    " Isso significa que a lista é 700 vezes maior que o objeto gerado\n",
    "\"\"\""
   ]
  },
  {
   "cell_type": "code",
   "execution_count": null,
   "metadata": {},
   "outputs": [
    {
     "data": {
      "text/plain": [
       "85176"
      ]
     },
     "execution_count": 103,
     "metadata": {},
     "output_type": "execute_result"
    }
   ],
   "source": [
    "import sys\n",
    "nums_squared_lc = [i ** 2 for i in range(10000)]\n",
    "sys.getsizeof(nums_squared_lc)\n"
   ]
  },
  {
   "cell_type": "code",
   "execution_count": null,
   "metadata": {},
   "outputs": [
    {
     "name": "stdout",
     "output_type": "stream",
     "text": [
      "208\n"
     ]
    }
   ],
   "source": [
    "nums_squared_gc = (i ** 2 for i in range(10000))\n",
    "print(sys.getsizeof(nums_squared_gc))"
   ]
  },
  {
   "cell_type": "code",
   "execution_count": null,
   "metadata": {},
   "outputs": [],
   "source": [
    "file_name = r\"D:\\deltalakeapps\\excelfiles\\super_loja.csv\"\n",
    "lines = (line for line in open(file_name))\n",
    "list_line = (s.rstrip().split(\";\") for s in lines)\n",
    "cols = next(list_line)\n",
    "company_dicts = (dict(zip(cols, data)) for data in list_line)"
   ]
  },
  {
   "cell_type": "code",
   "execution_count": null,
   "metadata": {},
   "outputs": [],
   "source": [
    "next(company_dicts)"
   ]
  },
  {
   "cell_type": "code",
   "execution_count": null,
   "metadata": {},
   "outputs": [
    {
     "data": {
      "text/plain": [
       "'\\nSe a lista for menor que a memória disponível da máquina em execução, as compreensões \\nda lista poderão ser avaliadas mais rapidamente do que a expressão geradora equivalente.\\n'"
      ]
     },
     "execution_count": 107,
     "metadata": {},
     "output_type": "execute_result"
    }
   ],
   "source": [
    "\"\"\"\n",
    "Se a lista for menor que a memória disponível da máquina em execução, as compreensões \n",
    "da lista poderão ser avaliadas mais rapidamente do que a expressão geradora equivalente.\n",
    "\"\"\""
   ]
  },
  {
   "cell_type": "code",
   "execution_count": null,
   "metadata": {},
   "outputs": [
    {
     "name": "stdout",
     "output_type": "stream",
     "text": [
      "         5 function calls in 0.001 seconds\n",
      "\n",
      "   Ordered by: standard name\n",
      "\n",
      "   ncalls  tottime  percall  cumtime  percall filename:lineno(function)\n",
      "        1    0.001    0.001    0.001    0.001 <string>:1(<listcomp>)\n",
      "        1    0.000    0.000    0.001    0.001 <string>:1(<module>)\n",
      "        1    0.000    0.000    0.001    0.001 {built-in method builtins.exec}\n",
      "        1    0.000    0.000    0.000    0.000 {built-in method builtins.sum}\n",
      "        1    0.000    0.000    0.000    0.000 {method 'disable' of '_lsprof.Profiler' objects}\n",
      "\n",
      "\n"
     ]
    }
   ],
   "source": [
    "import cProfile\n",
    "cProfile.run('sum([i * 2 for i in range(10000)])')"
   ]
  },
  {
   "cell_type": "code",
   "execution_count": null,
   "metadata": {},
   "outputs": [
    {
     "name": "stdout",
     "output_type": "stream",
     "text": [
      "         10005 function calls in 0.004 seconds\n",
      "\n",
      "   Ordered by: standard name\n",
      "\n",
      "   ncalls  tottime  percall  cumtime  percall filename:lineno(function)\n",
      "    10001    0.002    0.000    0.002    0.000 <string>:1(<genexpr>)\n",
      "        1    0.000    0.000    0.004    0.004 <string>:1(<module>)\n",
      "        1    0.000    0.000    0.004    0.004 {built-in method builtins.exec}\n",
      "        1    0.002    0.002    0.004    0.004 {built-in method builtins.sum}\n",
      "        1    0.000    0.000    0.000    0.000 {method 'disable' of '_lsprof.Profiler' objects}\n",
      "\n",
      "\n"
     ]
    }
   ],
   "source": [
    "cProfile.run('sum((i * 2 for i in range(10000)))')\n"
   ]
  },
  {
   "cell_type": "code",
   "execution_count": null,
   "metadata": {},
   "outputs": [
    {
     "data": {
      "text/plain": [
       "'\\na soma de todos os valores na compreensão da lista demorou cerca de um terço do tempo que a soma do gerador\\n.Se a velocidade for um problema e a memória não,\\nentão a compreensão da lista é provavelmente uma ferramenta melhor para o trabalho\\n'"
      ]
     },
     "execution_count": 110,
     "metadata": {},
     "output_type": "execute_result"
    }
   ],
   "source": [
    "\"\"\"\n",
    "a soma de todos os valores na compreensão da lista demorou cerca de um terço do tempo que a soma do gerador\n",
    ".Se a velocidade for um problema e a memória não,\n",
    "então a compreensão da lista é provavelmente uma ferramenta melhor para o trabalho\n",
    "\"\"\""
   ]
  },
  {
   "cell_type": "code",
   "execution_count": null,
   "metadata": {},
   "outputs": [
    {
     "data": {
      "text/plain": [
       "'\\nNo geral, yieldé uma afirmação bastante simples. Sua principal tarefa é controlar o fluxo de uma \\nfunção geradora de maneira semelhante às returninstruções. \\nPorém, conforme mencionado brevemente acima, a declaração de rendimento do Python tem alguns truques na manga.\\n\\nAo chamar uma função geradora ou usar uma expressão geradora, você retorna um iterador especial chamado gerador.\\nVocê pode atribuir este gerador a uma variável para usá-lo. Quando você chama métodos especiais no gerador, como next(),\\no código dentro da função é executado até yield.\\n\\nQuando a instrução yield do Python é atingida, o programa suspende a execução da função e retorna o valor produzido ao chamador.\\n(Em contraste, returninterrompe completamente a execução da função.) Quando uma função é suspensa, o estado dessa função é salvo.\\nIsso inclui quaisquer ligações de variáveis locais ao gerador, o ponteiro de instrução, a pilha interna e qualquer tratamento de exceção.\\n\\nIsso permite retomar a execução da função sempre que você chamar um dos métodos do gerador. Dessa forma, \\ntoda avaliação de função é retomada logo após yield. Você pode ver isso em ação usando várias instruções de rendimento do Python\\n\\n'"
      ]
     },
     "execution_count": 111,
     "metadata": {},
     "output_type": "execute_result"
    }
   ],
   "source": [
    "\"\"\"\n",
    "No geral, yieldé uma afirmação bastante simples. Sua principal tarefa é controlar o fluxo de uma \n",
    "função geradora de maneira semelhante às returninstruções. \n",
    "Porém, conforme mencionado brevemente acima, a declaração de rendimento do Python tem alguns truques na manga.\n",
    "\n",
    "Ao chamar uma função geradora ou usar uma expressão geradora, você retorna um iterador especial chamado gerador.\n",
    "Você pode atribuir este gerador a uma variável para usá-lo. Quando você chama métodos especiais no gerador, como next(),\n",
    "o código dentro da função é executado até yield.\n",
    "\n",
    "Quando a instrução yield do Python é atingida, o programa suspende a execução da função e retorna o valor produzido ao chamador.\n",
    "(Em contraste, returninterrompe completamente a execução da função.) Quando uma função é suspensa, o estado dessa função é salvo.\n",
    "Isso inclui quaisquer ligações de variáveis locais ao gerador, o ponteiro de instrução, a pilha interna e qualquer tratamento de exceção.\n",
    "\n",
    "Isso permite retomar a execução da função sempre que você chamar um dos métodos do gerador. Dessa forma, \n",
    "toda avaliação de função é retomada logo após yield. Você pode ver isso em ação usando várias instruções de rendimento do Python\n",
    "\n",
    "\"\"\""
   ]
  },
  {
   "cell_type": "code",
   "execution_count": null,
   "metadata": {},
   "outputs": [
    {
     "name": "stdout",
     "output_type": "stream",
     "text": [
      "a\n",
      "b\n",
      "c\n",
      "y\n"
     ]
    }
   ],
   "source": [
    "letters = [\"a\", \"b\", \"c\", \"y\"]\n",
    "it = iter(letters)\n",
    "while True:\n",
    "    try:\n",
    "        letter = next(it)\n",
    "    except StopIteration:\n",
    "        break\n",
    "    print(letter)\n"
   ]
  },
  {
   "cell_type": "code",
   "execution_count": null,
   "metadata": {},
   "outputs": [],
   "source": [
    "\n",
    "file_name = r\"D:\\deltalakeapps\\excelfiles\\super_loja.csv\"\n",
    "\n",
    "lines = (line for line in open(file_name))\n",
    "\n",
    "list_line = (s.rstrip().split(\";\") for s in lines)\n",
    "\n",
    "cols = next(list_line)\n",
    "\n",
    "comapny_dicts = (dict(zip(cols, data)) for data in list_line)\n",
    "\n",
    "[item for item in comapny_dicts]"
   ]
  },
  {
   "cell_type": "code",
   "execution_count": null,
   "metadata": {},
   "outputs": [],
   "source": [
    "from itertools import groupby\n",
    "\n",
    "\n",
    "file_name = r\"D:\\deltalakeapps\\excelfiles\\super_loja.csv\"\n",
    "\n",
    "\n",
    "lines = (line for line in open(file_name))\n",
    "\n",
    "\n",
    "list_line = (s.rstrip().split(\";\") for s in lines)\n",
    "\n",
    "\n",
    "cols = next(list_line)\n",
    "\n",
    "\n",
    "company_dicts = (dict(zip(cols, data)) for data in list_line)\n",
    "\n",
    "\n",
    "company_dicts = sorted(company_dicts, key=lambda x: x['Região'])\n",
    "\n",
    "\n",
    "grouped = {key: list(group) for key, group in groupby(company_dicts, key=lambda x: x['Região'])}\n",
    "\n",
    "\n",
    "for regiao, group in grouped.items():\n",
    "    print(f\"Região: {regiao}\")\n",
    "    for item in group:\n",
    "        print(item)\n",
    "\n",
    "\n"
   ]
  },
  {
   "cell_type": "code",
   "execution_count": null,
   "metadata": {},
   "outputs": [],
   "source": [
    "def csv_reader(file_name):\n",
    "    for row in open(file_name, \"r\"):\n",
    "        yield row.strip().split(\";\")\n",
    "\n",
    "file_name = r\"D:\\deltalakeapps\\excelfiles\\super_loja.csv\"\n",
    "nexted = csv_reader(file_name)\n",
    "\n",
    "while True:\n",
    "    try:\n",
    "        row = next(nexted)\n",
    "        print(row)\n",
    "    except StopIteration:\n",
    "        break\n"
   ]
  },
  {
   "cell_type": "code",
   "execution_count": null,
   "metadata": {},
   "outputs": [],
   "source": [
    "import sys\n",
    "\n",
    "def csv_reader(file_name):\n",
    "    for row in open(file_name, \"r\"):\n",
    "        yield row.strip().split(\";\")\n",
    "\n",
    "file_name = r\"D:\\deltalakeapps\\excelfiles\\super_loja.csv\"\n",
    "nexted = csv_reader(file_name)\n",
    "\n",
    "while True:\n",
    "    try:\n",
    "        row = next(nexted)\n",
    "        print(row)\n",
    "    except StopIteration:\n",
    "        break\n",
    "    except Exception as e:\n",
    "        print(f\"Erro: {e.__class__.__name__}\")\n"
   ]
  },
  {
   "cell_type": "code",
   "execution_count": null,
   "metadata": {},
   "outputs": [],
   "source": [
    "from collections import Counter, OrderedDict\n",
    "\n",
    "def csv_reader(file_name):\n",
    "    for row in open(file_name, \"r\"):\n",
    "        yield row.strip().split(\";\")\n",
    "\n",
    "file_name = r\"D:\\deltalakeapps\\excelfiles\\super_loja.csv\"\n",
    "nexted = csv_reader(file_name)\n",
    "\n",
    "\n",
    "data_pedido_count = OrderedDict()\n",
    "\n",
    "\n",
    "for row in nexted:\n",
    "    data_pedido = row[2] \n",
    "    if data_pedido in data_pedido_count:\n",
    "        data_pedido_count[data_pedido] += 1\n",
    "    else:\n",
    "        data_pedido_count[data_pedido] = 1\n",
    "\n",
    "\n",
    "for data_pedido, count in data_pedido_count.items():\n",
    "    print(f\"Data do Pedido: {data_pedido}, Quantidade: {count}\")\n"
   ]
  },
  {
   "cell_type": "code",
   "execution_count": null,
   "metadata": {},
   "outputs": [],
   "source": [
    "from collections import OrderedDict\n",
    "\n",
    "def csv_reader(file_name):\n",
    "    for row in open(file_name, \"r\"):\n",
    "        yield row.strip().split(\";\")\n",
    "\n",
    "file_name = r\"D:\\deltalakeapps\\excelfiles\\super_loja.csv\"\n",
    "nexted = csv_reader(file_name)\n",
    "\n",
    "\n",
    "data_pedido_groups = OrderedDict()\n",
    "\n",
    "\n",
    "next(nexted)\n",
    "\n",
    "\n",
    "for row in nexted:\n",
    "    data_pedido = row[2]\n",
    "    if data_pedido in data_pedido_groups:\n",
    "        data_pedido_groups[data_pedido].append(row)\n",
    "    else:\n",
    "        data_pedido_groups[data_pedido] = [row]\n",
    "\n",
    "\n",
    "for data_pedido, rows in data_pedido_groups.items():\n",
    "    print(f\"Data do Pedido: {data_pedido}\")\n",
    "    for row in rows:\n",
    "        print(row)\n"
   ]
  },
  {
   "cell_type": "code",
   "execution_count": null,
   "metadata": {},
   "outputs": [],
   "source": [
    "[data_pedido_groups.setdefault(row[2], []).append(row) for row in nexted]\n",
    "\n",
    "\n",
    "for data_pedido, rows in data_pedido_groups.items():\n",
    "    print(f\"Data do Pedido: {data_pedido}\")\n",
    "    for row in rows:\n",
    "        print(row)"
   ]
  },
  {
   "cell_type": "code",
   "execution_count": null,
   "metadata": {},
   "outputs": [
    {
     "name": "stdout",
     "output_type": "stream",
     "text": [
      "Total series A fundraising: $18500000\n"
     ]
    }
   ],
   "source": [
    "file_name = \"techcrunch.csv\"\n",
    "lines = (line for line in open(file_name))\n",
    "list_line = (s.rstrip().split(\",\") for s in lines)\n",
    "cols = next(list_line)\n",
    "company_dicts = (dict(zip(cols, data)) for data in list_line)\n",
    "funding = (\n",
    "    int(company_dict[\"raisedAmt\"])\n",
    "    for company_dict in company_dicts\n",
    "    if company_dict[\"round\"] == \"a\"\n",
    ")\n",
    "total_series_a = sum(funding)\n",
    "print(f\"Total series A fundraising: ${total_series_a}\")"
   ]
  },
  {
   "cell_type": "code",
   "execution_count": null,
   "metadata": {},
   "outputs": [],
   "source": [
    "#https://realpython.com/working-with-files-in-python/"
   ]
  },
  {
   "cell_type": "code",
   "execution_count": null,
   "metadata": {},
   "outputs": [
    {
     "name": "stdout",
     "output_type": "stream",
     "text": [
      "creditcard.csv\n",
      "super_loja.csv\n",
      "vendas2008.csv\n"
     ]
    }
   ],
   "source": [
    "import os\n",
    "\n",
    "\n",
    "basepath = 'excelfiles/'\n",
    "for entry in os.listdir(basepath):\n",
    "    if os.path.isfile(os.path.join(basepath, entry)):\n",
    "        print(entry)"
   ]
  },
  {
   "cell_type": "code",
   "execution_count": null,
   "metadata": {},
   "outputs": [
    {
     "name": "stdout",
     "output_type": "stream",
     "text": [
      "creditcard.csv\n",
      "super_loja.csv\n",
      "vendas2008.csv\n"
     ]
    }
   ],
   "source": [
    "import os\n",
    "\n",
    "\n",
    "basepath = 'excelfiles/'\n",
    "with os.scandir(basepath) as entries:\n",
    "    for entry in entries:\n",
    "        if entry.is_file():\n",
    "            print(entry.name)"
   ]
  },
  {
   "cell_type": "code",
   "execution_count": null,
   "metadata": {},
   "outputs": [
    {
     "name": "stdout",
     "output_type": "stream",
     "text": [
      "creditcard.csv\n",
      "super_loja.csv\n",
      "vendas2008.csv\n"
     ]
    }
   ],
   "source": [
    "from pathlib import Path\n",
    "\n",
    "basepath = Path('excelfiles/')\n",
    "files_in_basepath = basepath.iterdir()\n",
    "for item in files_in_basepath:\n",
    "    if item.is_file():\n",
    "        print(item.name)"
   ]
  },
  {
   "cell_type": "code",
   "execution_count": null,
   "metadata": {},
   "outputs": [
    {
     "name": "stdout",
     "output_type": "stream",
     "text": [
      "creditcard.csv\n",
      "super_loja.csv\n",
      "vendas2008.csv\n"
     ]
    }
   ],
   "source": [
    "from pathlib import Path\n",
    "\n",
    "basepath = Path('excelfiles/')\n",
    "files_in_basepath = (entry for entry in basepath.iterdir() if entry.is_file())\n",
    "for item in files_in_basepath:\n",
    "    print(item.name)"
   ]
  },
  {
   "cell_type": "code",
   "execution_count": null,
   "metadata": {},
   "outputs": [
    {
     "name": "stdout",
     "output_type": "stream",
     "text": [
      "salvar\n",
      "testes\n"
     ]
    }
   ],
   "source": [
    "import os\n",
    "\n",
    "\n",
    "basepath = 'excelfiles/'\n",
    "for entry in os.listdir(basepath):\n",
    "    if os.path.isdir(os.path.join(basepath, entry)):\n",
    "        print(entry)"
   ]
  },
  {
   "cell_type": "code",
   "execution_count": null,
   "metadata": {},
   "outputs": [
    {
     "name": "stdout",
     "output_type": "stream",
     "text": [
      "salvar\n",
      "testes\n"
     ]
    }
   ],
   "source": [
    "import os\n",
    "\n",
    "\n",
    "basepath = 'excelfiles/'\n",
    "with os.scandir(basepath) as entries:\n",
    "    for entry in entries:\n",
    "        if entry.is_dir():\n",
    "            print(entry.name)"
   ]
  },
  {
   "cell_type": "code",
   "execution_count": null,
   "metadata": {},
   "outputs": [
    {
     "name": "stdout",
     "output_type": "stream",
     "text": [
      "salvar\n",
      "testes\n"
     ]
    }
   ],
   "source": [
    "from pathlib import Path\n",
    "\n",
    "basepath = Path('excelfiles/')\n",
    "for entry in basepath.iterdir():\n",
    "    if entry.is_dir():\n",
    "        print(entry.name)"
   ]
  },
  {
   "cell_type": "code",
   "execution_count": null,
   "metadata": {},
   "outputs": [
    {
     "name": "stdout",
     "output_type": "stream",
     "text": [
      "1568948686.0\n",
      "1698247970.4919355\n",
      "1694821669.5284865\n",
      "1698247960.5397148\n",
      "1698173459.8148804\n"
     ]
    }
   ],
   "source": [
    "import os\n",
    "with os.scandir('excelfiles/') as dir_contents:\n",
    "    for entry in dir_contents:\n",
    "        info = entry.stat()\n",
    "        print(info.st_mtime)"
   ]
  },
  {
   "cell_type": "code",
   "execution_count": null,
   "metadata": {},
   "outputs": [
    {
     "name": "stdout",
     "output_type": "stream",
     "text": [
      "1568948686.0\n",
      "1698247970.4919355\n",
      "1694821669.5284865\n",
      "1698247960.5397148\n",
      "1698173459.8148804\n"
     ]
    }
   ],
   "source": [
    "from pathlib import Path\n",
    "current_dir = Path('excelfiles/')\n",
    "for path in current_dir.iterdir():\n",
    "    info = path.stat()\n",
    "    print(info.st_mtime)"
   ]
  },
  {
   "cell_type": "code",
   "execution_count": null,
   "metadata": {},
   "outputs": [],
   "source": [
    "\"\"\"List Comprehension\"\"\""
   ]
  },
  {
   "cell_type": "code",
   "execution_count": 10,
   "metadata": {},
   "outputs": [
    {
     "data": {
      "text/plain": [
       "[0, 1, 2, 3, 4, 5, 6, 7, 8, 9]"
      ]
     },
     "execution_count": 10,
     "metadata": {},
     "output_type": "execute_result"
    }
   ],
   "source": [
    "lista = []\n",
    "\n",
    "for numero in range(10):\n",
    "    lista.append(numero)\n",
    "lista"
   ]
  },
  {
   "cell_type": "code",
   "execution_count": 11,
   "metadata": {},
   "outputs": [
    {
     "data": {
      "text/plain": [
       "[0, 1, 2, 3, 4, 5, 6, 7, 8, 9]"
      ]
     },
     "execution_count": 11,
     "metadata": {},
     "output_type": "execute_result"
    }
   ],
   "source": [
    "lista = [numero for numero in range(10)]\n",
    "lista"
   ]
  },
  {
   "cell_type": "code",
   "execution_count": 12,
   "metadata": {},
   "outputs": [
    {
     "data": {
      "text/plain": [
       "[0, 2, 4, 6, 8, 10, 12, 14, 16, 18]"
      ]
     },
     "execution_count": 12,
     "metadata": {},
     "output_type": "execute_result"
    }
   ],
   "source": [
    "lista = [numero * 2\n",
    "         for numero in range(10)\n",
    "         ]\n",
    "lista"
   ]
  },
  {
   "cell_type": "code",
   "execution_count": 13,
   "metadata": {},
   "outputs": [
    {
     "data": {
      "text/plain": [
       "[0, 1, 2, 3, 8, 10, 12, 14, 16, 18]"
      ]
     },
     "execution_count": 13,
     "metadata": {},
     "output_type": "execute_result"
    }
   ],
   "source": [
    "lista = [numero * 2 if numero >= 4 else numero\n",
    "         for numero in range(10)\n",
    "         ]\n",
    "lista"
   ]
  },
  {
   "cell_type": "code",
   "execution_count": 15,
   "metadata": {},
   "outputs": [
    {
     "data": {
      "text/plain": [
       "[0, 5, 10, 15, 8, 10, 12, 140, 160, 180]"
      ]
     },
     "execution_count": 15,
     "metadata": {},
     "output_type": "execute_result"
    }
   ],
   "source": [
    "lista = [numero * 2 if numero >= 4 and numero <= 6 else numero * 20 if numero > 6 else numero * 5\n",
    "         for numero in range(10)\n",
    "         ]\n",
    "lista"
   ]
  },
  {
   "cell_type": "code",
   "execution_count": 35,
   "metadata": {},
   "outputs": [],
   "source": [
    "produtos = [\n",
    "    {\"modelo\":\"i7\",\"nome\":\"notebook Intel i7 32GB 256 SSD\",\"preco\":5999},\n",
    "    {\"modelo\":\"i7\",\"nome\":\"notebook Intel i7 128GB 256 SSD\",\"preco\":15999},\n",
    "    {\"modelo\":\"i5\",\"nome\":\"notebook Intel i5 32GB 256 SSD\",\"preco\":4999},\n",
    "    {\"modelo\":\"i3\",\"nome\":\"notebook Intel i3 8GB 256 SSD\",\"preco\":2999},\n",
    "    {\"modelo\":\"i7\",\"nome\":\"notebook Intel i7 32GB 256 SSD, 1TB SSD\",\"preco\":8599},\n",
    "    {\"modelo\":\"i7\",\"nome\":\"notebook Intel i7 128GB 256 SSD, 1TB SSD\",\"preco\":17999},\n",
    "     {\"modelo\":\"i3\",\"nome\":\"notebook Intel i3 128GB 256 SSD, 1TB SSD\",\"preco\":6999},\n",
    "    \n",
    "]\n",
    "\n"
   ]
  },
  {
   "cell_type": "code",
   "execution_count": null,
   "metadata": {},
   "outputs": [],
   "source": [
    "\"\"\"\n",
    "O que esta a esquerda do for é mapeamento, e o que esta a direita do for é filtro\n",
    "\n",
    "\"\"\""
   ]
  },
  {
   "cell_type": "code",
   "execution_count": 23,
   "metadata": {},
   "outputs": [
    {
     "data": {
      "text/plain": [
       "[{'nome': 'notebook Intel i7 32GB 256 SSD', 'preco': 5999},\n",
       " {'nome': 'notebook Intel i7 128GB 256 SSD', 'preco': 16798.95},\n",
       " {'nome': 'notebook Intel i5 32GB 256 SSD', 'preco': 4999},\n",
       " {'nome': 'notebook Intel i3 8GB 256 SSD', 'preco': 2999},\n",
       " {'nome': 'notebook Intel i7 32GB 256 SSD, 1TB SSD', 'preco': 9028.95},\n",
       " {'nome': 'notebook Intel i7 128GB 256 SSD, 1TB SSD', 'preco': 18898.95}]"
      ]
     },
     "execution_count": 23,
     "metadata": {},
     "output_type": "execute_result"
    }
   ],
   "source": [
    "alterados = [\n",
    "    {**produto, 'preco': produto['preco'] * 1.05}\n",
    "    if produto['preco'] > 7000 else {**produto} \n",
    "    for produto in produtos\n",
    "]\n",
    "alterados"
   ]
  },
  {
   "cell_type": "code",
   "execution_count": 29,
   "metadata": {},
   "outputs": [
    {
     "data": {
      "text/plain": [
       "[{'modelo': 'i5', 'nome': 'notebook Intel i5 32GB 256 SSD', 'preco': 4999},\n",
       " {'modelo': 'i3', 'nome': 'notebook Intel i3 8GB 256 SSD', 'preco': 2999}]"
      ]
     },
     "execution_count": 29,
     "metadata": {},
     "output_type": "execute_result"
    }
   ],
   "source": [
    "items = [item for item in produtos if item['modelo'] != 'i7']\n",
    "items"
   ]
  },
  {
   "cell_type": "code",
   "execution_count": 31,
   "metadata": {},
   "outputs": [
    {
     "data": {
      "text/plain": [
       "[{'modelo': 'i7', 'nome': 'notebook Intel i7 128GB 256 SSD', 'preco': 15999},\n",
       " {'modelo': 'i7',\n",
       "  'nome': 'notebook Intel i7 32GB 256 SSD, 1TB SSD',\n",
       "  'preco': 8599},\n",
       " {'modelo': 'i7',\n",
       "  'nome': 'notebook Intel i7 128GB 256 SSD, 1TB SSD',\n",
       "  'preco': 17999}]"
      ]
     },
     "execution_count": 31,
     "metadata": {},
     "output_type": "execute_result"
    }
   ],
   "source": [
    "items = [item for item in produtos if item['preco'] >= 7000]\n",
    "items"
   ]
  },
  {
   "cell_type": "code",
   "execution_count": 39,
   "metadata": {},
   "outputs": [
    {
     "name": "stdout",
     "output_type": "stream",
     "text": [
      "{'modelo': 'i7', 'nome': 'Notebook Intel I7 32Gb 256 Ssd', 'preco': 5399.1}\n",
      "{'modelo': 'i7', 'nome': 'Notebook Intel I7 128Gb 256 Ssd', 'preco': 14399.1}\n",
      "{'modelo': 'i5', 'nome': 'Notebook Intel I5 32Gb 256 Ssd', 'preco': 4499.1}\n",
      "{'modelo': 'i3', 'nome': 'Notebook Intel I3 8Gb 256 Ssd', 'preco': 2699.1}\n",
      "{'modelo': 'i7', 'nome': 'Notebook Intel I7 32Gb 256 Ssd, 1Tb Ssd', 'preco': 7739.1}\n",
      "{'modelo': 'i7', 'nome': 'Notebook Intel I7 128Gb 256 Ssd, 1Tb Ssd', 'preco': 16199.1}\n",
      "{'modelo': 'i3', 'nome': 'Notebook Intel I3 128Gb 256 Ssd, 1Tb Ssd', 'preco': 6299.1}\n"
     ]
    }
   ],
   "source": [
    "desconto = 0.10  # 10% de desconto\n",
    "\n",
    "produtos_modificados = [\n",
    "    {\n",
    "        \"modelo\": produto[\"modelo\"],\n",
    "        \"nome\": (lambda x: x.title())(produto[\"nome\"]), \n",
    "        \"preco\": (lambda x: x * (1 - desconto))(produto[\"preco\"])\n",
    "    }\n",
    "    for produto in produtos\n",
    "]\n",
    "\n",
    "for produto in produtos_modificados:\n",
    "    print(produto)"
   ]
  },
  {
   "cell_type": "code",
   "execution_count": 40,
   "metadata": {},
   "outputs": [
    {
     "data": {
      "text/plain": [
       "[{'modelo': 'i7', 'nome': 'Notebook Intel I7 32Gb 256 Ssd', 'preco': 5399.1},\n",
       " {'modelo': 'i7', 'nome': 'Notebook Intel I7 128Gb 256 Ssd', 'preco': 14399.1},\n",
       " {'modelo': 'i5', 'nome': 'Notebook Intel I5 32Gb 256 Ssd', 'preco': 4499.1},\n",
       " {'modelo': 'i3', 'nome': 'Notebook Intel I3 8Gb 256 Ssd', 'preco': 2699.1},\n",
       " {'modelo': 'i7',\n",
       "  'nome': 'Notebook Intel I7 32Gb 256 Ssd, 1Tb Ssd',\n",
       "  'preco': 7739.1},\n",
       " {'modelo': 'i7',\n",
       "  'nome': 'Notebook Intel I7 128Gb 256 Ssd, 1Tb Ssd',\n",
       "  'preco': 16199.1},\n",
       " {'modelo': 'i3',\n",
       "  'nome': 'Notebook Intel I3 128Gb 256 Ssd, 1Tb Ssd',\n",
       "  'preco': 6299.1}]"
      ]
     },
     "execution_count": 40,
     "metadata": {},
     "output_type": "execute_result"
    }
   ],
   "source": [
    "produtos_modificados"
   ]
  },
  {
   "cell_type": "code",
   "execution_count": 36,
   "metadata": {},
   "outputs": [
    {
     "name": "stdout",
     "output_type": "stream",
     "text": [
      "{'modelo': 'i3', 'nome': 'notebook Intel i3 128GB 256 SSD, 1TB SSD', 'preco': 6999}\n",
      "{'modelo': 'i3', 'nome': 'notebook Intel i3 8GB 256 SSD', 'preco': 2999}\n",
      "{'modelo': 'i5', 'nome': 'notebook Intel i5 32GB 256 SSD', 'preco': 4999}\n",
      "{'modelo': 'i7', 'nome': 'notebook Intel i7 128GB 256 SSD, 1TB SSD', 'preco': 17999}\n",
      "{'modelo': 'i7', 'nome': 'notebook Intel i7 128GB 256 SSD', 'preco': 15999}\n",
      "{'modelo': 'i7', 'nome': 'notebook Intel i7 32GB 256 SSD, 1TB SSD', 'preco': 8599}\n",
      "{'modelo': 'i7', 'nome': 'notebook Intel i7 32GB 256 SSD', 'preco': 5999}\n"
     ]
    }
   ],
   "source": [
    "from itertools import groupby\n",
    "from operator import itemgetter\n",
    "\n",
    "produtos = [\n",
    "    {\"modelo\": \"i7\", \"nome\": \"notebook Intel i7 32GB 256 SSD\", \"preco\": 5999},\n",
    "    {\"modelo\": \"i7\", \"nome\": \"notebook Intel i7 128GB 256 SSD\", \"preco\": 15999},\n",
    "    {\"modelo\": \"i5\", \"nome\": \"notebook Intel i5 32GB 256 SSD\", \"preco\": 4999},\n",
    "    {\"modelo\": \"i3\", \"nome\": \"notebook Intel i3 8GB 256 SSD\", \"preco\": 2999},\n",
    "    {\"modelo\": \"i7\", \"nome\": \"notebook Intel i7 32GB 256 SSD, 1TB SSD\", \"preco\": 8599},\n",
    "    {\"modelo\": \"i7\", \"nome\": \"notebook Intel i7 128GB 256 SSD, 1TB SSD\", \"preco\": 17999},\n",
    "    {\"modelo\": \"i3\", \"nome\": \"notebook Intel i3 128GB 256 SSD, 1TB SSD\", \"preco\": 6999},\n",
    "]\n",
    "\n",
    "produtos_ordenados = sorted(produtos, key=lambda x: (x[\"modelo\"], -x[\"preco\"]))\n",
    "\n",
    "grupos = groupby(produtos_ordenados, key=itemgetter(\"modelo\"))\n",
    "\n",
    "\n",
    "resultados = [\n",
    "    produto\n",
    "    for modelo, grupo in grupos\n",
    "    for produto in sorted(list(grupo), key=lambda x: -x[\"preco\"])\n",
    "]\n",
    "\n",
    "\n",
    "for produto in resultados:\n",
    "    print(produto)\n"
   ]
  },
  {
   "cell_type": "code",
   "execution_count": 38,
   "metadata": {},
   "outputs": [
    {
     "name": "stdout",
     "output_type": "stream",
     "text": [
      "{'modelo': 'i3', 'nome': 'notebook Intel i3 128GB 256 SSD, 1TB SSD', 'preco': 6999}\n",
      "{'modelo': 'i3', 'nome': 'notebook Intel i3 8GB 256 SSD', 'preco': 2999}\n",
      "{'modelo': 'i5', 'nome': 'notebook Intel i5 32GB 256 SSD', 'preco': 4999}\n",
      "{'modelo': 'i7', 'nome': 'notebook Intel i7 128GB 256 SSD, 1TB SSD', 'preco': 17999}\n",
      "{'modelo': 'i7', 'nome': 'notebook Intel i7 128GB 256 SSD', 'preco': 15999}\n",
      "{'modelo': 'i7', 'nome': 'notebook Intel i7 32GB 256 SSD, 1TB SSD', 'preco': 8599}\n",
      "{'modelo': 'i7', 'nome': 'notebook Intel i7 32GB 256 SSD', 'preco': 5999}\n"
     ]
    }
   ],
   "source": [
    "from itertools import groupby\n",
    "from operator import itemgetter\n",
    "\n",
    "produtos = [\n",
    "    {\"modelo\": \"i7\", \"nome\": \"notebook Intel i7 32GB 256 SSD\", \"preco\": 5999},\n",
    "    {\"modelo\": \"i7\", \"nome\": \"notebook Intel i7 128GB 256 SSD\", \"preco\": 15999},\n",
    "    {\"modelo\": \"i5\", \"nome\": \"notebook Intel i5 32GB 256 SSD\", \"preco\": 4999},\n",
    "    {\"modelo\": \"i3\", \"nome\": \"notebook Intel i3 8GB 256 SSD\", \"preco\": 2999},\n",
    "    {\"modelo\": \"i7\", \"nome\": \"notebook Intel i7 32GB 256 SSD, 1TB SSD\", \"preco\": 8599},\n",
    "    {\"modelo\": \"i7\", \"nome\": \"notebook Intel i7 128GB 256 SSD, 1TB SSD\", \"preco\": 17999},\n",
    "    {\"modelo\": \"i3\", \"nome\": \"notebook Intel i3 128GB 256 SSD, 1TB SSD\", \"preco\": 6999},\n",
    "]\n",
    "\n",
    "resultados = [\n",
    "    produto\n",
    "    for modelo, grupo in groupby(\n",
    "        sorted(produtos, key=lambda x: (x[\"modelo\"], -x[\"preco\"])),\n",
    "        key=itemgetter(\"modelo\")\n",
    "    )\n",
    "    for produto in sorted(list(grupo), key=lambda x: -x[\"preco\"])\n",
    "]\n",
    "\n",
    "for produto in resultados:\n",
    "    print(produto)\n"
   ]
  },
  {
   "cell_type": "code",
   "execution_count": 45,
   "metadata": {},
   "outputs": [
    {
     "data": {
      "text/plain": [
       "[{'modelo': 'i7',\n",
       "  'nome': 'notebook Intel i7 128GB 256 SSD, 1TB SSD',\n",
       "  'preco': 17999},\n",
       " {'modelo': 'i7', 'nome': 'notebook Intel i7 128GB 256 SSD', 'preco': 15999},\n",
       " {'modelo': 'i7',\n",
       "  'nome': 'notebook Intel i7 32GB 256 SSD, 1TB SSD',\n",
       "  'preco': 8599},\n",
       " {'modelo': 'i3',\n",
       "  'nome': 'notebook Intel i3 128GB 256 SSD, 1TB SSD',\n",
       "  'preco': 6999},\n",
       " {'modelo': 'i7', 'nome': 'notebook Intel i7 32GB 256 SSD', 'preco': 5999},\n",
       " {'modelo': 'i5', 'nome': 'notebook Intel i5 32GB 256 SSD', 'preco': 4999},\n",
       " {'modelo': 'i3', 'nome': 'notebook Intel i3 8GB 256 SSD', 'preco': 2999}]"
      ]
     },
     "execution_count": 45,
     "metadata": {},
     "output_type": "execute_result"
    }
   ],
   "source": [
    "produtos = [\n",
    "    {\"modelo\": \"i7\", \"nome\": \"notebook Intel i7 32GB 256 SSD\", \"preco\": 5999},\n",
    "    {\"modelo\": \"i7\", \"nome\": \"notebook Intel i7 128GB 256 SSD\", \"preco\": 15999},\n",
    "    {\"modelo\": \"i5\", \"nome\": \"notebook Intel i5 32GB 256 SSD\", \"preco\": 4999},\n",
    "    {\"modelo\": \"i3\", \"nome\": \"notebook Intel i3 8GB 256 SSD\", \"preco\": 2999},\n",
    "    {\"modelo\": \"i7\", \"nome\": \"notebook Intel i7 32GB 256 SSD, 1TB SSD\", \"preco\": 8599},\n",
    "    {\"modelo\": \"i7\", \"nome\": \"notebook Intel i7 128GB 256 SSD, 1TB SSD\", \"preco\": 17999},\n",
    "    {\"modelo\": \"i3\", \"nome\": \"notebook Intel i3 128GB 256 SSD, 1TB SSD\", \"preco\": 6999},\n",
    "]\n",
    "\n",
    "agrupa_produto = sorted(produtos, key=lambda k: k[\"preco\"], reverse=True)\n",
    "agrupa_produto"
   ]
  },
  {
   "cell_type": "code",
   "execution_count": 52,
   "metadata": {},
   "outputs": [
    {
     "data": {
      "text/plain": [
       "[{'modelo': 'i3', 'nome': 'notebook Intel i3 8GB 256 SSD', 'preco': 2999},\n",
       " {'modelo': 'i5', 'nome': 'notebook Intel i5 32GB 256 SSD', 'preco': 4999},\n",
       " {'modelo': 'i7', 'nome': 'notebook Intel i7 32GB 256 SSD', 'preco': 5999},\n",
       " {'modelo': 'i3',\n",
       "  'nome': 'notebook Intel i3 128GB 256 SSD, 1TB SSD',\n",
       "  'preco': 6999},\n",
       " {'modelo': 'i7',\n",
       "  'nome': 'notebook Intel i7 32GB 256 SSD, 1TB SSD',\n",
       "  'preco': 8599},\n",
       " {'modelo': 'i7', 'nome': 'notebook Intel i7 128GB 256 SSD', 'preco': 15999},\n",
       " {'modelo': 'i7',\n",
       "  'nome': 'notebook Intel i7 128GB 256 SSD, 1TB SSD',\n",
       "  'preco': 17999}]"
      ]
     },
     "execution_count": 52,
     "metadata": {},
     "output_type": "execute_result"
    }
   ],
   "source": [
    "\n",
    "agrupa_produto = sorted(produtos, key=lambda k: k[\"preco\"], reverse=False)\n",
    "agrupa_produto"
   ]
  },
  {
   "cell_type": "code",
   "execution_count": 57,
   "metadata": {},
   "outputs": [
    {
     "name": "stdout",
     "output_type": "stream",
     "text": [
      "Produtos com preço 2999:\n",
      "[{'modelo': 'i3', 'nome': 'notebook Intel i3 8GB 256 SSD', 'preco': 2999}]\n",
      "Produtos com preço 4999:\n",
      "[{'modelo': 'i5', 'nome': 'notebook Intel i5 32GB 256 SSD', 'preco': 4999}]\n",
      "Produtos com preço 5999:\n",
      "[{'modelo': 'i7', 'nome': 'notebook Intel i7 32GB 256 SSD', 'preco': 5999}]\n",
      "Produtos com preço 6999:\n",
      "[{'modelo': 'i3', 'nome': 'notebook Intel i3 128GB 256 SSD, 1TB SSD', 'preco': 6999}]\n",
      "Produtos com preço 8599:\n",
      "[{'modelo': 'i7', 'nome': 'notebook Intel i7 32GB 256 SSD, 1TB SSD', 'preco': 8599}]\n",
      "Produtos com preço 15999:\n",
      "[{'modelo': 'i7', 'nome': 'notebook Intel i7 128GB 256 SSD', 'preco': 15999}]\n",
      "Produtos com preço 17999:\n",
      "[{'modelo': 'i7', 'nome': 'notebook Intel i7 128GB 256 SSD, 1TB SSD', 'preco': 17999}]\n"
     ]
    },
    {
     "data": {
      "text/plain": [
       "[None, None, None, None, None, None, None]"
      ]
     },
     "execution_count": 57,
     "metadata": {},
     "output_type": "execute_result"
    }
   ],
   "source": [
    "from itertools import groupby\n",
    "from operator import itemgetter\n",
    "\n",
    "def ordena_dict(produto: Any) -> Any:\n",
    "    return produto['preco']\n",
    "\n",
    "agrupa_produto = sorted(produtos, key=ordena_dict)\n",
    "agrupados = groupby(agrupa_produto, key=ordena_dict)\n",
    "\n",
    "[print(f\"Produtos com preço {preco}:\\n{list(grupo)}\") for preco, grupo in agrupados]\n"
   ]
  },
  {
   "cell_type": "code",
   "execution_count": null,
   "metadata": {},
   "outputs": [],
   "source": [
    "from datetime import datetime\n",
    "from os import scandir\n",
    "\n",
    "def convert_date(timestamp: Any) -> str:\n",
    "    d = datetime.utcfromtimestamp(timestamp)\n",
    "    formated_date = d.strftime('%d %b %Y')\n",
    "    return formated_date\n",
    "\n",
    "def get_files() -> None:\n",
    "    dir_entries = scandir('excelfiles/')\n",
    "    for entry in dir_entries:\n",
    "        if entry.is_file():\n",
    "            info = entry.stat()\n",
    "            print(f'{entry.name}\\t Ultima Modificação: {convert_date(info.st_mtime)}')"
   ]
  },
  {
   "cell_type": "code",
   "execution_count": null,
   "metadata": {},
   "outputs": [
    {
     "name": "stdout",
     "output_type": "stream",
     "text": [
      "creditcard.csv\t Ultima Modificação: 20 Sep 2019\n",
      "super_loja.csv\t Ultima Modificação: 15 Sep 2023\n",
      "vendas2008.csv\t Ultima Modificação: 24 Oct 2023\n"
     ]
    }
   ],
   "source": [
    "get_files()"
   ]
  },
  {
   "cell_type": "code",
   "execution_count": 33,
   "metadata": {},
   "outputs": [
    {
     "data": {
      "text/plain": [
       "[{'preco': 5999, 'modelo': 'i7'},\n",
       " {'preco': 15999, 'modelo': 'i7'},\n",
       " {'preco': 4999, 'modelo': 'i5'},\n",
       " {'preco': 2999, 'modelo': 'i3'},\n",
       " {'preco': 8599, 'modelo': 'i7'},\n",
       " {'preco': 17999, 'modelo': 'i7'}]"
      ]
     },
     "execution_count": 33,
     "metadata": {},
     "output_type": "execute_result"
    }
   ],
   "source": [
    "items =[{'preco':produto[\"preco\"],'modelo':produto[\"modelo\"]} for produto in produtos]\n",
    "items"
   ]
  },
  {
   "cell_type": "code",
   "execution_count": 34,
   "metadata": {},
   "outputs": [
    {
     "data": {
      "text/plain": [
       "[{5999, 'i7'},\n",
       " {15999, 'i7'},\n",
       " {4999, 'i5'},\n",
       " {2999, 'i3'},\n",
       " {8599, 'i7'},\n",
       " {17999, 'i7'}]"
      ]
     },
     "execution_count": 34,
     "metadata": {},
     "output_type": "execute_result"
    }
   ],
   "source": [
    "items =[{produto[\"preco\"],produto[\"modelo\"]} for produto in produtos]\n",
    "items"
   ]
  },
  {
   "cell_type": "code",
   "execution_count": null,
   "metadata": {},
   "outputs": [],
   "source": [
    "from pathlib import Path\n",
    "\n",
    "p = Path('excelfiles')\n",
    "try:\n",
    "    p.mkdir()\n",
    "except FileExistsError as exc:\n",
    "    print(exc)"
   ]
  },
  {
   "cell_type": "code",
   "execution_count": null,
   "metadata": {},
   "outputs": [
    {
     "name": "stdout",
     "output_type": "stream",
     "text": [
      "creditcard.csv\n",
      "super_loja.csv\n",
      "vendas2008.csv\n"
     ]
    }
   ],
   "source": [
    "import os\n",
    "\n",
    "\n",
    "for f_name in os.listdir('excelfiles'):\n",
    "    if f_name.endswith('.csv'):\n",
    "        print(f_name)"
   ]
  },
  {
   "cell_type": "code",
   "execution_count": null,
   "metadata": {},
   "outputs": [
    {
     "name": "stdout",
     "output_type": "stream",
     "text": [
      "creditcard.csv\n",
      "super_loja.csv\n",
      "vendas2008.csv\n"
     ]
    }
   ],
   "source": [
    "import os\n",
    "import fnmatch\n",
    "\n",
    "for file_name in os.listdir('excelfiles/'):\n",
    "    if fnmatch.fnmatch(file_name, '*.csv'):\n",
    "        print(file_name)"
   ]
  },
  {
   "cell_type": "code",
   "execution_count": null,
   "metadata": {},
   "outputs": [],
   "source": [
    "for filename in os.listdir('.'):\n",
    "    if fnmatch.fnmatch(filename, 'creditcard'):\n",
    "        print(filename)"
   ]
  },
  {
   "cell_type": "code",
   "execution_count": null,
   "metadata": {},
   "outputs": [
    {
     "name": "stdout",
     "output_type": "stream",
     "text": [
      "techcrunch.csv\n"
     ]
    }
   ],
   "source": [
    "import glob\n",
    "for name in glob.glob('*[a-z]*.csv'):\n",
    "    print(name)"
   ]
  },
  {
   "cell_type": "code",
   "execution_count": null,
   "metadata": {},
   "outputs": [],
   "source": [
    "import glob\n",
    "for file in glob.iglob('**/*.csv', recursive=True):\n",
    "    print(file)"
   ]
  },
  {
   "cell_type": "code",
   "execution_count": null,
   "metadata": {},
   "outputs": [],
   "source": [
    "import os\n",
    "\n",
    "data_file = 'home/data.txt'\n",
    "\n",
    "# If the file exists, delete it\n",
    "if os.path.isfile(data_file):\n",
    "    os.remove(data_file)\n",
    "else:\n",
    "    print(f'Error: {data_file} not a valid filename')"
   ]
  },
  {
   "cell_type": "code",
   "execution_count": null,
   "metadata": {},
   "outputs": [],
   "source": [
    "from pathlib import Path\n",
    "\n",
    "data_file = Path('home/data.txt')\n",
    "\n",
    "try:\n",
    "    data_file.unlink()\n",
    "except IsADirectoryError as e:\n",
    "    print(f'Error: {data_file} : {e.strerror}')"
   ]
  },
  {
   "cell_type": "code",
   "execution_count": null,
   "metadata": {},
   "outputs": [],
   "source": [
    "from pathlib import Path\n",
    "\n",
    "trash_dir = Path('my_documents/bad_dir')\n",
    "\n",
    "try:\n",
    "    trash_dir.rmdir()\n",
    "except OSError as e:\n",
    "    print(f'Error: {trash_dir} : {e.strerror}')"
   ]
  },
  {
   "cell_type": "code",
   "execution_count": null,
   "metadata": {},
   "outputs": [],
   "source": [
    "import shutil\n",
    "\n",
    "trash_dir = 'my_documents/bad_dir'\n",
    "\n",
    "try:\n",
    "    shutil.rmtree(trash_dir)\n",
    "except OSError as e:\n",
    "    print(f'Error: {trash_dir} : {e.strerror}')"
   ]
  },
  {
   "cell_type": "code",
   "execution_count": null,
   "metadata": {},
   "outputs": [],
   "source": [
    "import os\n",
    "\n",
    "for dirpath, dirnames, files in os.walk('.', topdown=False):\n",
    "    try:\n",
    "        os.rmdir(dirpath)\n",
    "    except OSError as ex:\n",
    "        pass"
   ]
  },
  {
   "cell_type": "code",
   "execution_count": null,
   "metadata": {},
   "outputs": [],
   "source": [
    "\"\"\"\n",
    "os.remove()\tExclui um arquivo e não exclui diretórios\n",
    "os.unlink()\tÉ idêntico os.remove()e exclui um único arquivo\n",
    "pathlib.Path.unlink()\tExclui um arquivo e não pode excluir diretórios\n",
    "os.rmdir()\tExclui um diretório vazio\n",
    "pathlib.Path.rmdir()\tExclui um diretório vazio\n",
    "shutil.rmtree()\tExclui toda a árvore de diretórios e pode ser usado para excluir diretórios não vazios\n",
    "\n",
    "\"\"\""
   ]
  },
  {
   "cell_type": "code",
   "execution_count": null,
   "metadata": {},
   "outputs": [],
   "source": [
    "import zipfile\n",
    "\n",
    "with zipfile.ZipFile('data.zip', 'r') as zipobj:\n",
    "    zipobj.namelist()"
   ]
  },
  {
   "cell_type": "code",
   "execution_count": null,
   "metadata": {},
   "outputs": [],
   "source": [
    "import zipfile\n",
    "\n",
    "with zipfile.ZipFile('data.zip', 'r') as zipobj:\n",
    "    bar_info = zipobj.getinfo('sub_dir/bar.py')\n",
    "    bar_info.file_size"
   ]
  },
  {
   "cell_type": "code",
   "execution_count": null,
   "metadata": {},
   "outputs": [],
   "source": [
    "import zipfile\n",
    "\n",
    "with zipfile.ZipFile('secret.zip', 'r') as pwd_zip:\n",
    "    # Extract from a password protected archive\n",
    "    pwd_zip.extractall(path='extract_dir', pwd='Quish3@o')"
   ]
  },
  {
   "cell_type": "code",
   "execution_count": null,
   "metadata": {},
   "outputs": [],
   "source": [
    "# Open a ZipFile object in append mode\n",
    "with zipfile.ZipFile('new.zip', 'a') as new_zip:\n",
    "    new_zip.write('data.txt')\n",
    "    new_zip.write('latin.txt')"
   ]
  },
  {
   "cell_type": "code",
   "execution_count": null,
   "metadata": {},
   "outputs": [],
   "source": [
    "import tarfile\n",
    "\n",
    "with tarfile.open('example.tar', 'r') as tar_file:\n",
    "    print(tar_file.getnames())"
   ]
  },
  {
   "cell_type": "code",
   "execution_count": null,
   "metadata": {},
   "outputs": [],
   "source": [
    "import tarfile\n",
    "\n",
    "tar = tarfile.open('example.tar', mode='r')\n",
    "tar.getnames()\n"
   ]
  },
  {
   "cell_type": "code",
   "execution_count": null,
   "metadata": {},
   "outputs": [],
   "source": [
    "for entry in tar.getmembers():\n",
    "    print(entry.name)\n",
    "    print(' Modified:', time.ctime(entry.mtime))\n",
    "    print(' Size    :', entry.size, 'bytes')\n",
    "    print()\n"
   ]
  },
  {
   "cell_type": "code",
   "execution_count": null,
   "metadata": {},
   "outputs": [],
   "source": [
    "import tarfile\n",
    "\n",
    "file_list = ['app.py', 'config.py', 'CONTRIBUTORS.md', 'tests.py']\n",
    "with tarfile.open('packages.tar', mode='w') as tar:\n",
    "    for file in file_list:\n",
    "        tar.add(file)\n",
    "\n",
    "# Read the contents of the newly created archive\n",
    "with tarfile.open('package.tar', mode='r') as t:\n",
    "    for member in t.getmembers():\n",
    "        print(member.name)\n"
   ]
  },
  {
   "cell_type": "code",
   "execution_count": null,
   "metadata": {},
   "outputs": [],
   "source": [
    "with tarfile.open('package.tar', mode='a') as tar:\n",
    "    tar.add('foo.bar')\n",
    "\n",
    "with tarfile.open('package.tar', mode='r') as tar:\n",
    "    for member in tar.getmembers():\n",
    "        print(member.name)"
   ]
  },
  {
   "cell_type": "code",
   "execution_count": null,
   "metadata": {},
   "outputs": [],
   "source": [
    "files = ['app.py', 'config.py', 'tests.py']\n",
    "with tarfile.open('packages.tar.gz', mode='w:gz') as tar:\n",
    "    tar.add('app.py')\n",
    "    tar.add('config.py')\n",
    "    tar.add('tests.py')\n",
    "\n",
    "with tarfile.open('packages.tar.gz', mode='r:gz') as t:\n",
    "    for member in t.getmembers():\n",
    "        print(member.name)\n"
   ]
  },
  {
   "cell_type": "code",
   "execution_count": null,
   "metadata": {},
   "outputs": [],
   "source": [
    "# File: fileinput-example.py\n",
    "import fileinput\n",
    "import sys\n",
    "\n",
    "files = fileinput.input()\n",
    "for line in files:\n",
    "    if fileinput.isfirstline():\n",
    "        print(f'\\n--- Reading {fileinput.filename()} ---')\n",
    "    print(' -> ' + line, end='')\n",
    "print()"
   ]
  }
 ],
 "metadata": {
  "kernelspec": {
   "display_name": "venv",
   "language": "python",
   "name": "python3"
  },
  "language_info": {
   "codemirror_mode": {
    "name": "ipython",
    "version": 3
   },
   "file_extension": ".py",
   "mimetype": "text/x-python",
   "name": "python",
   "nbconvert_exporter": "python",
   "pygments_lexer": "ipython3",
   "version": "3.11.5"
  }
 },
 "nbformat": 4,
 "nbformat_minor": 2
}
