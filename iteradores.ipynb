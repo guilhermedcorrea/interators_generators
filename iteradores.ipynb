{
 "cells": [
  {
   "cell_type": "code",
   "execution_count": null,
   "metadata": {},
   "outputs": [],
   "source": [
    "def csv_reader(file_name):\n",
    "    for row in open(file_name, \"r\"):\n",
    "        yield row"
   ]
  },
  {
   "cell_type": "code",
   "execution_count": 32,
   "metadata": {},
   "outputs": [
    {
     "data": {
      "text/plain": [
       "<generator object <genexpr> at 0x0000026D03D4E0C0>"
      ]
     },
     "execution_count": 32,
     "metadata": {},
     "output_type": "execute_result"
    }
   ],
   "source": [
    "csv_gen = (row for row in open(r\"D:\\deltalakeapps\\excelfiles\\super_loja.csv\"))\n",
    "csv_gen"
   ]
  },
  {
   "cell_type": "code",
   "execution_count": null,
   "metadata": {},
   "outputs": [],
   "source": [
    "next(csv_gen)"
   ]
  },
  {
   "cell_type": "code",
   "execution_count": 6,
   "metadata": {},
   "outputs": [],
   "source": [
    "file_name = r\"D:\\deltalakeapps\\excelfiles\\super_loja.csv\"\n",
    "lines = (line for line in open(file_name))\n",
    "list_line = (s.rstrip().split(\";\") for s in lines)\n",
    "cols = next(list_line)\n",
    "company_dicts = (dict(zip(cols, data)) for data in list_line)"
   ]
  },
  {
   "cell_type": "code",
   "execution_count": null,
   "metadata": {},
   "outputs": [],
   "source": [
    "next(company_dicts)"
   ]
  },
  {
   "cell_type": "code",
   "execution_count": null,
   "metadata": {},
   "outputs": [],
   "source": [
    "\n",
    "file_name = r\"D:\\deltalakeapps\\excelfiles\\super_loja.csv\"\n",
    "\n",
    "lines = (line for line in open(file_name))\n",
    "\n",
    "list_line = (s.rstrip().split(\";\") for s in lines)\n",
    "\n",
    "cols = next(list_line)\n",
    "\n",
    "comapny_dicts = (dict(zip(cols, data)) for data in list_line)\n",
    "\n",
    "[item for item in comapny_dicts]"
   ]
  },
  {
   "cell_type": "code",
   "execution_count": null,
   "metadata": {},
   "outputs": [],
   "source": [
    "from itertools import groupby\n",
    "\n",
    "\n",
    "file_name = r\"D:\\deltalakeapps\\excelfiles\\super_loja.csv\"\n",
    "\n",
    "\n",
    "lines = (line for line in open(file_name))\n",
    "\n",
    "\n",
    "list_line = (s.rstrip().split(\";\") for s in lines)\n",
    "\n",
    "\n",
    "cols = next(list_line)\n",
    "\n",
    "\n",
    "company_dicts = (dict(zip(cols, data)) for data in list_line)\n",
    "\n",
    "\n",
    "company_dicts = sorted(company_dicts, key=lambda x: x['Região'])\n",
    "\n",
    "\n",
    "grouped = {key: list(group) for key, group in groupby(company_dicts, key=lambda x: x['Região'])}\n",
    "\n",
    "\n",
    "for regiao, group in grouped.items():\n",
    "    print(f\"Região: {regiao}\")\n",
    "    for item in group:\n",
    "        print(item)\n",
    "\n",
    "\n"
   ]
  },
  {
   "cell_type": "code",
   "execution_count": null,
   "metadata": {},
   "outputs": [],
   "source": [
    "def csv_reader(file_name):\n",
    "    for row in open(file_name, \"r\"):\n",
    "        yield row.strip().split(\";\")\n",
    "\n",
    "file_name = r\"D:\\deltalakeapps\\excelfiles\\super_loja.csv\"\n",
    "nexted = csv_reader(file_name)\n",
    "\n",
    "while True:\n",
    "    try:\n",
    "        row = next(nexted)\n",
    "        print(row)\n",
    "    except StopIteration:\n",
    "        break\n"
   ]
  },
  {
   "cell_type": "code",
   "execution_count": null,
   "metadata": {},
   "outputs": [],
   "source": [
    "import sys\n",
    "\n",
    "def csv_reader(file_name):\n",
    "    for row in open(file_name, \"r\"):\n",
    "        yield row.strip().split(\";\")\n",
    "\n",
    "file_name = r\"D:\\deltalakeapps\\excelfiles\\super_loja.csv\"\n",
    "nexted = csv_reader(file_name)\n",
    "\n",
    "while True:\n",
    "    try:\n",
    "        row = next(nexted)\n",
    "        print(row)\n",
    "    except StopIteration:\n",
    "        break\n",
    "    except Exception as e:\n",
    "        print(f\"Erro: {e.__class__.__name__}\")\n"
   ]
  },
  {
   "cell_type": "code",
   "execution_count": null,
   "metadata": {},
   "outputs": [],
   "source": [
    "from collections import Counter, OrderedDict\n",
    "\n",
    "def csv_reader(file_name):\n",
    "    for row in open(file_name, \"r\"):\n",
    "        yield row.strip().split(\";\")\n",
    "\n",
    "file_name = r\"D:\\deltalakeapps\\excelfiles\\super_loja.csv\"\n",
    "nexted = csv_reader(file_name)\n",
    "\n",
    "\n",
    "data_pedido_count = OrderedDict()\n",
    "\n",
    "\n",
    "for row in nexted:\n",
    "    data_pedido = row[2] \n",
    "    if data_pedido in data_pedido_count:\n",
    "        data_pedido_count[data_pedido] += 1\n",
    "    else:\n",
    "        data_pedido_count[data_pedido] = 1\n",
    "\n",
    "\n",
    "for data_pedido, count in data_pedido_count.items():\n",
    "    print(f\"Data do Pedido: {data_pedido}, Quantidade: {count}\")\n"
   ]
  },
  {
   "cell_type": "code",
   "execution_count": null,
   "metadata": {},
   "outputs": [],
   "source": [
    "from collections import OrderedDict\n",
    "\n",
    "def csv_reader(file_name):\n",
    "    for row in open(file_name, \"r\"):\n",
    "        yield row.strip().split(\";\")\n",
    "\n",
    "file_name = r\"D:\\deltalakeapps\\excelfiles\\super_loja.csv\"\n",
    "nexted = csv_reader(file_name)\n",
    "\n",
    "\n",
    "data_pedido_groups = OrderedDict()\n",
    "\n",
    "\n",
    "next(nexted)\n",
    "\n",
    "\n",
    "for row in nexted:\n",
    "    data_pedido = row[2]\n",
    "    if data_pedido in data_pedido_groups:\n",
    "        data_pedido_groups[data_pedido].append(row)\n",
    "    else:\n",
    "        data_pedido_groups[data_pedido] = [row]\n",
    "\n",
    "\n",
    "for data_pedido, rows in data_pedido_groups.items():\n",
    "    print(f\"Data do Pedido: {data_pedido}\")\n",
    "    for row in rows:\n",
    "        print(row)\n"
   ]
  },
  {
   "cell_type": "code",
   "execution_count": null,
   "metadata": {},
   "outputs": [],
   "source": [
    "[data_pedido_groups.setdefault(row[2], []).append(row) for row in nexted]\n",
    "\n",
    "\n",
    "for data_pedido, rows in data_pedido_groups.items():\n",
    "    print(f\"Data do Pedido: {data_pedido}\")\n",
    "    for row in rows:\n",
    "        print(row)"
   ]
  }
 ],
 "metadata": {
  "kernelspec": {
   "display_name": "venv",
   "language": "python",
   "name": "python3"
  },
  "language_info": {
   "codemirror_mode": {
    "name": "ipython",
    "version": 3
   },
   "file_extension": ".py",
   "mimetype": "text/x-python",
   "name": "python",
   "nbconvert_exporter": "python",
   "pygments_lexer": "ipython3",
   "version": "3.11.5"
  }
 },
 "nbformat": 4,
 "nbformat_minor": 2
}
